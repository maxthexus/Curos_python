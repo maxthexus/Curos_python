{
 "cells": [
  {
   "cell_type": "code",
   "execution_count": 9,
   "metadata": {},
   "outputs": [
    {
     "name": "stdout",
     "output_type": "stream",
     "text": [
      "Erro ao ler o arquivo: Error tokenizing data. C error: Expected 26 fields in line 36, saw 28\n",
      "\n"
     ]
    }
   ],
   "source": [
    "import pandas as pd\n",
    "\n",
    "# Caminho absoluto para o arquivo CSV\n",
    "caminho_arquivo = \"C:/Users/bilhetagem/Downloads/Curos_python/Pratica/pesquisa.CSV\"\n",
    "\n",
    "# Tente ler o arquivo CSV especificando a codificação ISO-8859-1\n",
    "try:\n",
    "    dados = pd.read_csv(caminho_arquivo, encoding='ISO-8859-1')\n",
    "    print(\"Arquivo lido com sucesso!\")\n",
    "    print(dados.head())  # Mostrar as primeiras linhas do DataFrame\n",
    "except FileNotFoundError:\n",
    "    print(\"Arquivo não encontrado. Verifique o caminho e o nome do arquivo.\")\n",
    "except Exception as e:\n",
    "    print(f\"Erro ao ler o arquivo: {e}\")\n"
   ]
  },
  {
   "cell_type": "code",
   "execution_count": null,
   "metadata": {},
   "outputs": [],
   "source": []
  }
 ],
 "metadata": {
  "kernelspec": {
   "display_name": "base",
   "language": "python",
   "name": "python3"
  },
  "language_info": {
   "codemirror_mode": {
    "name": "ipython",
    "version": 3
   },
   "file_extension": ".py",
   "mimetype": "text/x-python",
   "name": "python",
   "nbconvert_exporter": "python",
   "pygments_lexer": "ipython3",
   "version": "3.11.7"
  }
 },
 "nbformat": 4,
 "nbformat_minor": 2
}
